{
 "cells": [
  {
   "cell_type": "markdown",
   "metadata": {},
   "source": [
    "# Talks markdown generator for academicpages\n",
    "\n",
    "Takes a TSV of talks with metadata and converts them for use with [academicpages.github.io](academicpages.github.io). This is an interactive Jupyter notebook ([see more info here](http://jupyter-notebook-beginner-guide.readthedocs.io/en/latest/what_is_jupyter.html)). The core python code is also in `talks.py`. Run either from the `markdown_generator` folder after replacing `talks.tsv` with one containing your data.\n",
    "\n",
    "TODO: Make this work with BibTex and other databases, rather than Stuart's non-standard TSV format and citation style."
   ]
  },
  {
   "cell_type": "code",
   "execution_count": 25,
   "metadata": {},
   "outputs": [],
   "source": [
    "import pandas as pd\n",
    "import os"
   ]
  },
  {
   "cell_type": "markdown",
   "metadata": {},
   "source": [
    "## Data format\n",
    "\n",
    "The TSV needs to have the following columns: title, type, url_slug, venue, date, location, talk_url, description, with a header at the top. Many of these fields can be blank, but the columns must be in the TSV.\n",
    "\n",
    "- Fields that cannot be blank: `title`, `url_slug`, `date`. All else can be blank. `type` defaults to \"Talk\" \n",
    "- `date` must be formatted as YYYY-MM-DD.\n",
    "- `url_slug` will be the descriptive part of the .md file and the permalink URL for the page about the paper. \n",
    "    - The .md file will be `YYYY-MM-DD-[url_slug].md` and the permalink will be `https://[yourdomain]/talks/YYYY-MM-DD-[url_slug]`\n",
    "    - The combination of `url_slug` and `date` must be unique, as it will be the basis for your filenames\n",
    "\n",
    "This is how the raw file looks (it doesn't look pretty, use a spreadsheet or other program to edit and create)."
   ]
  },
  {
   "cell_type": "code",
   "execution_count": 26,
   "metadata": {},
   "outputs": [
    {
     "name": "stdout",
     "output_type": "stream",
     "text": [
      "title\ttype\turl_slug\tvenue\tdate\tlocation\ttalk_url\tdescription\n",
      "Barletta, M., Ponton, C. - La question de la normalisation des Ã©crits scolaires pour leur traitement automatique. Le cas de l'omission de mots.\tTalk\ttalk-1\tBruit de fond ou valeur ajoutÃ©e? GÃ©rer le bruit lors des traitements informatiques des corpus linguistiques\t2023-04-28\tGrenoble, France\thttps://hal.science/hal-04090669\tPrÃ©sentation donnÃ©e lors de la JournÃ©e dâ€™Ã©tudes â€œBruit de fond ou valeur ajoutÃ©?â€�\n",
      "Barletta, M. - Outiller les chaÃ®nes de (co)rÃ©fÃ©rencedans un corpus dâ€™Ã©crits scolaires\tPoster\tposter-1\tEcole dâ€™Ã©tÃ© ETAL 2023\t2023-06-16\tMarseille, France\thttps://www.researchgate.net/publication/381310948_poster_ecole_d'ete_ETAL_2023_Marseille_juin_2023\tPoster prÃ©sentÃ© lors de lâ€™Ã©cole dâ€™Ã©tÃ© ETAL 2023.\n",
      "Barletta, M., Ponton, C. - Outiller l'Ã©tude des chaines de rÃ©fÃ©rence dans des Ã©crits scolaires \tPoster\tposter-2\tJournÃ©es de Linguistique des Corpus\t2023-07-05\tGrenoble, France\thttps://hal.science/hal-04153289\tPoster sur le processus dâ€™annotation en continuitÃ© rÃ©fÃ©rentielle du corpus Scolinter. PresentÃ© lors des JournÃ©es de Linguistique de Corpus Ã  Grenoble (France)\n",
      "Barletta, M. - Annotation outillÃ©e de la continuitÃ© rÃ©fÃ©rentielle dans un corpus scolaire trilingue du primaire (Recital)\tPoster\tposter-3\t35Ã¨mes JournÃ©es d'Ã‰tudes sur la Parole (JEP) 31Ã¨me ConfÃ©rence sur le Traitement Automatique des Langues Naturelles (TALN) 26Ã¨me Rencontre des Ã‰tudiants Chercheurs en Informatique pour le Traitement Automatique des Langues (RECITAL)\t2024-07-10\tToulouse, France\thttps://hal.science/hal-04646867\tPoster prÃ©sentÃ© lors de la session poster TANL-JEP-RECITAL du 10 juillet 2024 Ã  Toulouse.\n",
      "Barletta, M. - Annotation de la continuitÃ© rÃ©fÃ©rentielle dans un corpus scolaire â€“ premiers rÃ©sultats (Recital)\tTalk\ttalk-2\t35Ã¨mes JournÃ©es d'Ã‰tudes sur la Parole (JEP) 31Ã¨me ConfÃ©rence sur le Traitement Automatique des Langues Naturelles (TALN) 26Ã¨me Rencontre des Ã‰tudiants Chercheurs en Informatique pour le Traitement Automatique des Langues (RECITAL)\t2024-07-10\tToulouse, France\thttps://inria.hal.science/hal-04622985 \t\"PrÃ©sentation donnÃ©e lors de la session TALN/RECITAL : \"\"Applications en pÃ©dagogie\"\", 10 juillet 2024. Le papier rÃ©latif a gagnÃ© le prix pour meilleur papier de la section RECITAL.\"\n"
     ]
    }
   ],
   "source": [
    "!cat talks.tsv"
   ]
  },
  {
   "cell_type": "markdown",
   "metadata": {},
   "source": [
    "## Import TSV\n",
    "\n",
    "Pandas makes this easy with the read_csv function. We are using a TSV, so we specify the separator as a tab, or `\\t`.\n",
    "\n",
    "I found it important to put this data in a tab-separated values format, because there are a lot of commas in this kind of data and comma-separated values can get messed up. However, you can modify the import statement, as pandas also has read_excel(), read_json(), and others."
   ]
  },
  {
   "cell_type": "code",
   "execution_count": 32,
   "metadata": {},
   "outputs": [
    {
     "data": {
      "text/html": [
       "<div>\n",
       "<style scoped>\n",
       "    .dataframe tbody tr th:only-of-type {\n",
       "        vertical-align: middle;\n",
       "    }\n",
       "\n",
       "    .dataframe tbody tr th {\n",
       "        vertical-align: top;\n",
       "    }\n",
       "\n",
       "    .dataframe thead th {\n",
       "        text-align: right;\n",
       "    }\n",
       "</style>\n",
       "<table border=\"1\" class=\"dataframe\">\n",
       "  <thead>\n",
       "    <tr style=\"text-align: right;\">\n",
       "      <th></th>\n",
       "      <th>title</th>\n",
       "      <th>type</th>\n",
       "      <th>url_slug</th>\n",
       "      <th>venue</th>\n",
       "      <th>date</th>\n",
       "      <th>location</th>\n",
       "      <th>talk_url</th>\n",
       "      <th>description</th>\n",
       "    </tr>\n",
       "  </thead>\n",
       "  <tbody>\n",
       "    <tr>\n",
       "      <th>0</th>\n",
       "      <td>Barletta, M., Ponton, C. - La question de la n...</td>\n",
       "      <td>Talk</td>\n",
       "      <td>talk-1</td>\n",
       "      <td>Bruit de fond ou valeur ajoutée? Gérer le brui...</td>\n",
       "      <td>2023-04-28</td>\n",
       "      <td>Grenoble, France</td>\n",
       "      <td>https://hal.science/hal-04090669</td>\n",
       "      <td>Présentation donnée lors de la Journée d’étude...</td>\n",
       "    </tr>\n",
       "    <tr>\n",
       "      <th>1</th>\n",
       "      <td>Barletta, M. - Outiller les chaînes de (co)réf...</td>\n",
       "      <td>Poster</td>\n",
       "      <td>poster-1</td>\n",
       "      <td>Ecole d’été ETAL 2023</td>\n",
       "      <td>2023-06-16</td>\n",
       "      <td>Marseille, France</td>\n",
       "      <td>https://www.researchgate.net/publication/38131...</td>\n",
       "      <td>Poster présenté lors de l’école d’été ETAL 2023.</td>\n",
       "    </tr>\n",
       "    <tr>\n",
       "      <th>2</th>\n",
       "      <td>Barletta, M., Ponton, C. - Outiller l'étude de...</td>\n",
       "      <td>Poster</td>\n",
       "      <td>poster-2</td>\n",
       "      <td>Journées de Linguistique des Corpus</td>\n",
       "      <td>2023-07-05</td>\n",
       "      <td>Grenoble, France</td>\n",
       "      <td>https://hal.science/hal-04153289</td>\n",
       "      <td>Poster sur le processus d’annotation en contin...</td>\n",
       "    </tr>\n",
       "    <tr>\n",
       "      <th>3</th>\n",
       "      <td>Barletta, M. - Annotation outillée de la conti...</td>\n",
       "      <td>Poster</td>\n",
       "      <td>poster-3</td>\n",
       "      <td>35èmes Journées d'Études sur la Parole (JEP) 3...</td>\n",
       "      <td>2024-07-10</td>\n",
       "      <td>Toulouse, France</td>\n",
       "      <td>https://hal.science/hal-04646867</td>\n",
       "      <td>Poster présenté lors de la session poster TANL...</td>\n",
       "    </tr>\n",
       "    <tr>\n",
       "      <th>4</th>\n",
       "      <td>Barletta, M. - Annotation de la continuité réf...</td>\n",
       "      <td>Talk</td>\n",
       "      <td>talk-2</td>\n",
       "      <td>35èmes Journées d'Études sur la Parole (JEP) 3...</td>\n",
       "      <td>2024-07-10</td>\n",
       "      <td>Toulouse, France</td>\n",
       "      <td>https://inria.hal.science/hal-04622985</td>\n",
       "      <td>Présentation donnée lors de la session TALN/RE...</td>\n",
       "    </tr>\n",
       "  </tbody>\n",
       "</table>\n",
       "</div>"
      ],
      "text/plain": [
       "                                               title    type  url_slug  \\\n",
       "0  Barletta, M., Ponton, C. - La question de la n...    Talk    talk-1   \n",
       "1  Barletta, M. - Outiller les chaînes de (co)réf...  Poster  poster-1   \n",
       "2  Barletta, M., Ponton, C. - Outiller l'étude de...  Poster  poster-2   \n",
       "3  Barletta, M. - Annotation outillée de la conti...  Poster  poster-3   \n",
       "4  Barletta, M. - Annotation de la continuité réf...    Talk    talk-2   \n",
       "\n",
       "                                               venue        date  \\\n",
       "0  Bruit de fond ou valeur ajoutée? Gérer le brui...  2023-04-28   \n",
       "1                              Ecole d’été ETAL 2023  2023-06-16   \n",
       "2                Journées de Linguistique des Corpus  2023-07-05   \n",
       "3  35èmes Journées d'Études sur la Parole (JEP) 3...  2024-07-10   \n",
       "4  35èmes Journées d'Études sur la Parole (JEP) 3...  2024-07-10   \n",
       "\n",
       "            location                                           talk_url  \\\n",
       "0   Grenoble, France                   https://hal.science/hal-04090669   \n",
       "1  Marseille, France  https://www.researchgate.net/publication/38131...   \n",
       "2   Grenoble, France                   https://hal.science/hal-04153289   \n",
       "3   Toulouse, France                   https://hal.science/hal-04646867   \n",
       "4   Toulouse, France            https://inria.hal.science/hal-04622985    \n",
       "\n",
       "                                         description  \n",
       "0  Présentation donnée lors de la Journée d’étude...  \n",
       "1   Poster présenté lors de l’école d’été ETAL 2023.  \n",
       "2  Poster sur le processus d’annotation en contin...  \n",
       "3  Poster présenté lors de la session poster TANL...  \n",
       "4  Présentation donnée lors de la session TALN/RE...  "
      ]
     },
     "execution_count": 32,
     "metadata": {},
     "output_type": "execute_result"
    }
   ],
   "source": [
    "talks = pd.read_csv(\"talks.tsv\", sep=\"\\t\", header=0, encoding=\"utf8\")\n",
    "talks"
   ]
  },
  {
   "cell_type": "markdown",
   "metadata": {},
   "source": [
    "## Escape special characters\n",
    "\n",
    "YAML is very picky about how it takes a valid string, so we are replacing single and double quotes (and ampersands) with their HTML encoded equivilents. This makes them look not so readable in raw format, but they are parsed and rendered nicely."
   ]
  },
  {
   "cell_type": "code",
   "execution_count": 28,
   "metadata": {},
   "outputs": [],
   "source": [
    "html_escape_table = {\n",
    "    \"&\": \"&amp;\",\n",
    "    '\"': \"&quot;\",\n",
    "    \"'\": \"&apos;\"\n",
    "    }\n",
    "\n",
    "def html_escape(text):\n",
    "    if type(text) is str:\n",
    "        return \"\".join(html_escape_table.get(c,c) for c in text)\n",
    "    else:\n",
    "        return \"False\""
   ]
  },
  {
   "cell_type": "markdown",
   "metadata": {},
   "source": [
    "## Creating the markdown files\n",
    "\n",
    "This is where the heavy lifting is done. This loops through all the rows in the TSV dataframe, then starts to concatentate a big string (```md```) that contains the markdown for each type. It does the YAML metadata first, then does the description for the individual page."
   ]
  },
  {
   "cell_type": "code",
   "execution_count": 29,
   "metadata": {},
   "outputs": [],
   "source": [
    "loc_dict = {}\n",
    "\n",
    "for row, item in talks.iterrows():\n",
    "    \n",
    "    md_filename = str(item.date) + \"-\" + item.url_slug + \".md\"\n",
    "    html_filename = str(item.date) + \"-\" + item.url_slug \n",
    "    year = item.date[:4]\n",
    "    \n",
    "    md = \"---\\ntitle: \\\"\"   + item.title + '\"\\n'\n",
    "    md += \"collection: talks\" + \"\\n\"\n",
    "    \n",
    "    if len(str(item.type)) > 3:\n",
    "        md += 'type: \"' + item.type + '\"\\n'\n",
    "    else:\n",
    "        md += 'type: \"Talk\"\\n'\n",
    "    \n",
    "    md += \"permalink: /talks/\" + html_filename + \"\\n\"\n",
    "    \n",
    "    if len(str(item.venue)) > 3:\n",
    "        md += 'venue: \"' + item.venue + '\"\\n'\n",
    "        \n",
    "    if len(str(item.location)) > 3:\n",
    "        md += \"date: \" + str(item.date) + \"\\n\"\n",
    "    \n",
    "    if len(str(item.location)) > 3:\n",
    "        md += 'location: \"' + str(item.location) + '\"\\n'\n",
    "           \n",
    "    md += \"---\\n\"\n",
    "    \n",
    "    \n",
    "    if len(str(item.talk_url)) > 3:\n",
    "        md += \"\\n[More information here](\" + item.talk_url + \")\\n\" \n",
    "        \n",
    "    \n",
    "    if len(str(item.description)) > 3:\n",
    "        md += \"\\n\" + html_escape(item.description) + \"\\n\"\n",
    "        \n",
    "        \n",
    "    md_filename = os.path.basename(md_filename)\n",
    "    #print(md)\n",
    "    \n",
    "    with open(\"../_talks/\" + md_filename, 'w', encoding=\"utf-8\") as f:\n",
    "        f.write(md)"
   ]
  },
  {
   "cell_type": "markdown",
   "metadata": {},
   "source": [
    "These files are in the talks directory, one directory below where we're working from."
   ]
  },
  {
   "cell_type": "code",
   "execution_count": 30,
   "metadata": {},
   "outputs": [
    {
     "name": "stdout",
     "output_type": "stream",
     "text": [
      "2023-04-28-talk-1.md\n",
      "2023-06-16-poster-1.md\n",
      "2023-07-05-poster-2.md\n",
      "2024-07-10-poster-3.md\n",
      "2024-07-10-talk-2.md\n"
     ]
    }
   ],
   "source": [
    "!ls ../_talks"
   ]
  },
  {
   "cell_type": "code",
   "execution_count": 31,
   "metadata": {},
   "outputs": [
    {
     "name": "stdout",
     "output_type": "stream",
     "text": [
      "---\n",
      "title: \"Barletta, M., Ponton, C. - La question de la normalisation des Ã©crits scolaires pour leur traitement automatique. Le cas de l'omission de mots.\"\n",
      "collection: talks\n",
      "type: \"Talk\"\n",
      "permalink: /talks/2023-04-28-talk-1\n",
      "venue: \"Bruit de fond ou valeur ajoutÃ©e? GÃ©rer le bruit lors des traitements informatiques des corpus linguistiques\"\n",
      "date: 2023-04-28\n",
      "location: \"Grenoble, France\"\n",
      "---\n",
      "\n",
      "[More information here](https://hal.science/hal-04090669)\n",
      "\n",
      "PrÃ©sentation donnÃ©e lors de la JournÃ©e dâ€™Ã©tudes â€œBruit de fond ou valeur ajoutÃ©?â€�\n"
     ]
    }
   ],
   "source": [
    "!cat ../_talks/2023-04-28-talk-1.md"
   ]
  },
  {
   "cell_type": "code",
   "execution_count": null,
   "metadata": {},
   "outputs": [],
   "source": []
  },
  {
   "cell_type": "code",
   "execution_count": null,
   "metadata": {},
   "outputs": [],
   "source": []
  }
 ],
 "metadata": {
  "kernelspec": {
   "display_name": "Python 3 (ipykernel)",
   "language": "python",
   "name": "python3"
  },
  "language_info": {
   "codemirror_mode": {
    "name": "ipython",
    "version": 3
   },
   "file_extension": ".py",
   "mimetype": "text/x-python",
   "name": "python",
   "nbconvert_exporter": "python",
   "pygments_lexer": "ipython3",
   "version": "3.9.7"
  }
 },
 "nbformat": 4,
 "nbformat_minor": 1
}
